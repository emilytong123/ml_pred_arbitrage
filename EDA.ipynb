{
 "cells": [
  {
   "cell_type": "markdown",
   "id": "c4719040-b9da-4ea0-bfa1-7bedad67bb78",
   "metadata": {},
   "source": [
    "## Premier League Soccer/Football Data"
   ]
  },
  {
   "cell_type": "markdown",
   "id": "0ccd56cd-ff8d-4e20-83e0-002cb1b288f0",
   "metadata": {},
   "source": [
    "The Football-Data Premier League Data [Dataset](https://www.football-data.co.uk/englandm.php) contains sports betting odds data from the 1993/1994 season to the 2022/2023 season. This website provides not only historical football results and betting odds, but also live scores, betting advice, and opportunities for people to bet themselves. The data is meant to be useful by providing insights over time -- insights that may be useful for making money off of identifying opportunities for arbitrage, instances where betting on all outcomes of a game is guaranteed to make a profit.\n",
    "\n",
    "The data dictionary Notes.txt also provides descriptions for what each column means. There are two main groups of columns: game data and odds data. Firstly, columns relating to game data include the name of the home team, name of the away team, name of referree, shots on goal for each team, score, and number of yellow cards for each team. Secondly, there is odds data from multiple bookmakers and what the odds are for each outcome. Aside from specific odds for each outcome for each bookmaker, there is also some aggregate data such as average and maximum odds.\n",
    "\n",
    "After cleaning data from 2010-2023 and doing some exploratory data analysis, the first step is to identify where there were opportunities for arbitrage to prepare for models to predict both whether there will be arbitrage opportunities as well as the profit margins."
   ]
  },
  {
   "cell_type": "code",
   "execution_count": 60,
   "id": "dbcfab11-ca2d-439a-b226-65ef782d582e",
   "metadata": {},
   "outputs": [],
   "source": [
    "import pandas as pd\n",
    "import numpy as np\n",
    "import seaborn as sns\n",
    "import glob\n",
    "import os\n",
    "import matplotlib.pyplot as plt\n",
    "import datetime\n",
    "import warnings\n",
    "from matplotlib.cm import get_cmap\n",
    "from matplotlib.ticker import FormatStrFormatter\n",
    "from sklearn.neighbors import KNeighborsClassifier\n",
    "from sklearn.metrics import mean_squared_error\n",
    "from sklearn.metrics import roc_curve\n",
    "from sklearn.preprocessing import StandardScaler\n",
    "import math\n",
    "warnings.filterwarnings(\"ignore\")"
   ]
  },
  {
   "cell_type": "code",
   "execution_count": 61,
   "id": "7e3554d3-9bda-471d-a3d3-59b5ca1f6475",
   "metadata": {},
   "outputs": [
    {
     "name": "stdout",
     "output_type": "stream",
     "text": [
      "[Errno 2] No such file or directory: 'data'\n",
      "/Users/emily/Desktop/ML/euro_soccer/data\n"
     ]
    }
   ],
   "source": [
    "%cd data"
   ]
  },
  {
   "cell_type": "code",
   "execution_count": 62,
   "id": "89b3e3f1-51a9-4ba6-94a3-119e7627494e",
   "metadata": {},
   "outputs": [],
   "source": [
    "# get file names of all data csvs in this folder\n",
    "files = glob.glob(\"*.csv\")"
   ]
  },
  {
   "cell_type": "code",
   "execution_count": 63,
   "id": "d137b8e6-f684-4b25-a60a-b03241263fea",
   "metadata": {},
   "outputs": [],
   "source": [
    "all_dfs = []\n",
    "for file in files:\n",
    "    try: \n",
    "        all_dfs.append(pd.read_csv(file, parse_dates = [\"Date\"], dayfirst = True))\n",
    "    except: \n",
    "        print(file)\n",
    "        continue\n",
    "premier = pd.concat(all_dfs)"
   ]
  },
  {
   "cell_type": "markdown",
   "id": "b6bde290-8ec3-420a-8235-87010c0911f7",
   "metadata": {},
   "source": [
    "## Data Cleaning"
   ]
  },
  {
   "cell_type": "code",
   "execution_count": 64,
   "id": "770c153c-695d-4aa5-a728-82c8a6cd5118",
   "metadata": {},
   "outputs": [
    {
     "name": "stdout",
     "output_type": "stream",
     "text": [
      "(4771, 139)\n"
     ]
    },
    {
     "data": {
      "text/html": [
       "<div>\n",
       "<style scoped>\n",
       "    .dataframe tbody tr th:only-of-type {\n",
       "        vertical-align: middle;\n",
       "    }\n",
       "\n",
       "    .dataframe tbody tr th {\n",
       "        vertical-align: top;\n",
       "    }\n",
       "\n",
       "    .dataframe thead th {\n",
       "        text-align: right;\n",
       "    }\n",
       "</style>\n",
       "<table border=\"1\" class=\"dataframe\">\n",
       "  <thead>\n",
       "    <tr style=\"text-align: right;\">\n",
       "      <th></th>\n",
       "      <th>Div</th>\n",
       "      <th>Date</th>\n",
       "      <th>HomeTeam</th>\n",
       "      <th>AwayTeam</th>\n",
       "      <th>FTHG</th>\n",
       "      <th>FTAG</th>\n",
       "      <th>FTR</th>\n",
       "      <th>HTHG</th>\n",
       "      <th>HTAG</th>\n",
       "      <th>HTR</th>\n",
       "      <th>...</th>\n",
       "      <th>AvgC&lt;2.5</th>\n",
       "      <th>AHCh</th>\n",
       "      <th>B365CAHH</th>\n",
       "      <th>B365CAHA</th>\n",
       "      <th>PCAHH</th>\n",
       "      <th>PCAHA</th>\n",
       "      <th>MaxCAHH</th>\n",
       "      <th>MaxCAHA</th>\n",
       "      <th>AvgCAHH</th>\n",
       "      <th>AvgCAHA</th>\n",
       "    </tr>\n",
       "  </thead>\n",
       "  <tbody>\n",
       "    <tr>\n",
       "      <th>0</th>\n",
       "      <td>E0</td>\n",
       "      <td>2013-08-17</td>\n",
       "      <td>Arsenal</td>\n",
       "      <td>Aston Villa</td>\n",
       "      <td>1.0</td>\n",
       "      <td>3.0</td>\n",
       "      <td>A</td>\n",
       "      <td>1.0</td>\n",
       "      <td>1.0</td>\n",
       "      <td>D</td>\n",
       "      <td>...</td>\n",
       "      <td>NaN</td>\n",
       "      <td>NaN</td>\n",
       "      <td>NaN</td>\n",
       "      <td>NaN</td>\n",
       "      <td>NaN</td>\n",
       "      <td>NaN</td>\n",
       "      <td>NaN</td>\n",
       "      <td>NaN</td>\n",
       "      <td>NaN</td>\n",
       "      <td>NaN</td>\n",
       "    </tr>\n",
       "    <tr>\n",
       "      <th>1</th>\n",
       "      <td>E0</td>\n",
       "      <td>2013-08-17</td>\n",
       "      <td>Liverpool</td>\n",
       "      <td>Stoke</td>\n",
       "      <td>1.0</td>\n",
       "      <td>0.0</td>\n",
       "      <td>H</td>\n",
       "      <td>1.0</td>\n",
       "      <td>0.0</td>\n",
       "      <td>H</td>\n",
       "      <td>...</td>\n",
       "      <td>NaN</td>\n",
       "      <td>NaN</td>\n",
       "      <td>NaN</td>\n",
       "      <td>NaN</td>\n",
       "      <td>NaN</td>\n",
       "      <td>NaN</td>\n",
       "      <td>NaN</td>\n",
       "      <td>NaN</td>\n",
       "      <td>NaN</td>\n",
       "      <td>NaN</td>\n",
       "    </tr>\n",
       "    <tr>\n",
       "      <th>2</th>\n",
       "      <td>E0</td>\n",
       "      <td>2013-08-17</td>\n",
       "      <td>Norwich</td>\n",
       "      <td>Everton</td>\n",
       "      <td>2.0</td>\n",
       "      <td>2.0</td>\n",
       "      <td>D</td>\n",
       "      <td>0.0</td>\n",
       "      <td>0.0</td>\n",
       "      <td>D</td>\n",
       "      <td>...</td>\n",
       "      <td>NaN</td>\n",
       "      <td>NaN</td>\n",
       "      <td>NaN</td>\n",
       "      <td>NaN</td>\n",
       "      <td>NaN</td>\n",
       "      <td>NaN</td>\n",
       "      <td>NaN</td>\n",
       "      <td>NaN</td>\n",
       "      <td>NaN</td>\n",
       "      <td>NaN</td>\n",
       "    </tr>\n",
       "    <tr>\n",
       "      <th>3</th>\n",
       "      <td>E0</td>\n",
       "      <td>2013-08-17</td>\n",
       "      <td>Sunderland</td>\n",
       "      <td>Fulham</td>\n",
       "      <td>0.0</td>\n",
       "      <td>1.0</td>\n",
       "      <td>A</td>\n",
       "      <td>0.0</td>\n",
       "      <td>0.0</td>\n",
       "      <td>D</td>\n",
       "      <td>...</td>\n",
       "      <td>NaN</td>\n",
       "      <td>NaN</td>\n",
       "      <td>NaN</td>\n",
       "      <td>NaN</td>\n",
       "      <td>NaN</td>\n",
       "      <td>NaN</td>\n",
       "      <td>NaN</td>\n",
       "      <td>NaN</td>\n",
       "      <td>NaN</td>\n",
       "      <td>NaN</td>\n",
       "    </tr>\n",
       "    <tr>\n",
       "      <th>4</th>\n",
       "      <td>E0</td>\n",
       "      <td>2013-08-17</td>\n",
       "      <td>Swansea</td>\n",
       "      <td>Man United</td>\n",
       "      <td>1.0</td>\n",
       "      <td>4.0</td>\n",
       "      <td>A</td>\n",
       "      <td>0.0</td>\n",
       "      <td>2.0</td>\n",
       "      <td>A</td>\n",
       "      <td>...</td>\n",
       "      <td>NaN</td>\n",
       "      <td>NaN</td>\n",
       "      <td>NaN</td>\n",
       "      <td>NaN</td>\n",
       "      <td>NaN</td>\n",
       "      <td>NaN</td>\n",
       "      <td>NaN</td>\n",
       "      <td>NaN</td>\n",
       "      <td>NaN</td>\n",
       "      <td>NaN</td>\n",
       "    </tr>\n",
       "  </tbody>\n",
       "</table>\n",
       "<p>5 rows × 139 columns</p>\n",
       "</div>"
      ],
      "text/plain": [
       "  Div       Date    HomeTeam     AwayTeam  FTHG  FTAG FTR  HTHG  HTAG HTR  \\\n",
       "0  E0 2013-08-17     Arsenal  Aston Villa   1.0   3.0   A   1.0   1.0   D   \n",
       "1  E0 2013-08-17   Liverpool        Stoke   1.0   0.0   H   1.0   0.0   H   \n",
       "2  E0 2013-08-17     Norwich      Everton   2.0   2.0   D   0.0   0.0   D   \n",
       "3  E0 2013-08-17  Sunderland       Fulham   0.0   1.0   A   0.0   0.0   D   \n",
       "4  E0 2013-08-17     Swansea   Man United   1.0   4.0   A   0.0   2.0   A   \n",
       "\n",
       "   ... AvgC<2.5  AHCh  B365CAHH  B365CAHA  PCAHH  PCAHA  MaxCAHH  MaxCAHA  \\\n",
       "0  ...      NaN   NaN       NaN       NaN    NaN    NaN      NaN      NaN   \n",
       "1  ...      NaN   NaN       NaN       NaN    NaN    NaN      NaN      NaN   \n",
       "2  ...      NaN   NaN       NaN       NaN    NaN    NaN      NaN      NaN   \n",
       "3  ...      NaN   NaN       NaN       NaN    NaN    NaN      NaN      NaN   \n",
       "4  ...      NaN   NaN       NaN       NaN    NaN    NaN      NaN      NaN   \n",
       "\n",
       "   AvgCAHH  AvgCAHA  \n",
       "0      NaN      NaN  \n",
       "1      NaN      NaN  \n",
       "2      NaN      NaN  \n",
       "3      NaN      NaN  \n",
       "4      NaN      NaN  \n",
       "\n",
       "[5 rows x 139 columns]"
      ]
     },
     "execution_count": 64,
     "metadata": {},
     "output_type": "execute_result"
    }
   ],
   "source": [
    "print(premier.shape)\n",
    "premier.head()"
   ]
  },
  {
   "cell_type": "code",
   "execution_count": 65,
   "id": "e4f1e076-9fdf-4ffe-aac7-a1dc4f2995eb",
   "metadata": {},
   "outputs": [
    {
     "name": "stdout",
     "output_type": "stream",
     "text": [
      "Taking data from 2010-08-14 00:00:00 to 2023-02-08 00:00:00\n"
     ]
    }
   ],
   "source": [
    "print(\"Taking data from\", premier[\"Date\"].min(), \"to\", premier[\"Date\"].max())"
   ]
  },
  {
   "cell_type": "code",
   "execution_count": 66,
   "id": "2f99117a-1904-4e1f-bdd3-e0f3dde81665",
   "metadata": {},
   "outputs": [],
   "source": [
    "premier = premier[(premier[\"HomeTeam\"].notnull()) & premier[\"AwayTeam\"].notnull()]"
   ]
  },
  {
   "cell_type": "markdown",
   "id": "08bab6aa-c197-4cd1-93e8-f079badd5309",
   "metadata": {},
   "source": [
    "#### What are the odds like?"
   ]
  },
  {
   "cell_type": "code",
   "execution_count": 67,
   "id": "e5d359a5-9722-4f9a-8653-e7dfe0b6c5f7",
   "metadata": {},
   "outputs": [],
   "source": [
    "premier = premier[premier[\"Date\"].notnull()]\n",
    "premier[\"Year\"] = premier[\"Date\"].dt.year"
   ]
  },
  {
   "cell_type": "code",
   "execution_count": 68,
   "id": "b3b6e385-1d08-4550-b20e-12afafe7af13",
   "metadata": {},
   "outputs": [],
   "source": [
    "home_odds_cols = [\"B365H\", \"BSH\", \"BWH\", \"GBH\", \"IWH\", \"LBH\", \"PSH\", \"PH\", \"SOH\",\n",
    "                                            \"SBH\", \"SJH\", \"SYH\", \"VCH\", \"WHH\"]\n",
    "draw_odds_cols = [\"B365D\", \"BSD\", \"BWD\", \"GBD\", \"IWD\", \"LBD\", \"PSD\", \"PD\", \"SOD\",\n",
    "                                            \"SBD\", \"SJD\", \"SYD\", \"VCD\", \"WHD\"]\n",
    "away_odds_cols = [\"B365A\", \"BSA\", \"BWA\", \"GBA\", \"IWA\", \"LBA\", \"PSA\", \"PA\", \"SOA\", \n",
    "                                            \"SBA\", \"SJA\", \"SYA\", \"VCA\", \"WHA\"]\n",
    "h_odds_cols = list(set(premier.columns.tolist()).intersection(set(home_odds_cols)))\n",
    "d_odds_cols = list(set(premier.columns.tolist()).intersection(set(draw_odds_cols)))\n",
    "a_odds_cols = list(set(premier.columns.tolist()).intersection(set(away_odds_cols)))"
   ]
  },
  {
   "cell_type": "code",
   "execution_count": 69,
   "id": "a968df6a-b187-409d-806e-dd2a484302bd",
   "metadata": {},
   "outputs": [],
   "source": [
    "def what_is_the_season(row):\n",
    "    \"\"\"\n",
    "    For a given date of a match, get the season it was in.\n",
    "    \"\"\"\n",
    "    date, year = row[\"Date\"], row[\"Year\"]\n",
    "\n",
    "    if (date > datetime.date(year = year-1, day = 1, month = 8) and \n",
    "                    date <= datetime.date(year = year, day = 30, month = 5)):\n",
    "        season = str(year-1) + \"-\" + str(year)\n",
    "    else:\n",
    "        season = str(year) + \"-\" + str(year + 1)\n",
    "    \n",
    "    return season"
   ]
  },
  {
   "cell_type": "code",
   "execution_count": 70,
   "id": "490cfded-3fe3-4180-afc8-f91f99f7ff8c",
   "metadata": {},
   "outputs": [],
   "source": [
    "premier[\"Season\"] = premier.apply(what_is_the_season, axis = 1)\n",
    "def calc_avg_odd(year_subset):\n",
    "    # Home\n",
    "    home = year_subset[h_odds_cols]\n",
    "    all_home_odds = home.values\n",
    "    all_home_odds = [odd for odd in all_home_odds.flatten() if pd.notnull(odd)]\n",
    "    avg_h = sum(all_home_odds)/len(all_home_odds)\n",
    "    \n",
    "    # Draw\n",
    "    draw = year_subset[d_odds_cols]\n",
    "    all_draw_odds = draw.values\n",
    "    all_draw_odds = [odd for odd in all_draw_odds.flatten() if pd.notnull(odd)]\n",
    "    avg_d = sum(all_draw_odds)/len(all_draw_odds)\n",
    "\n",
    "    # Away\n",
    "    away = year_subset[a_odds_cols]\n",
    "    all_away_odds = away.values\n",
    "    all_away_odds = [odd for odd in all_away_odds.flatten() if pd.notnull(odd)]\n",
    "    avg_a = sum(all_away_odds)/len(all_away_odds)\n",
    "    \n",
    "    return [avg_h, avg_d, avg_a]"
   ]
  },
  {
   "cell_type": "code",
   "execution_count": 71,
   "id": "2c384a13-4d37-4c24-bc23-b12bb2275e4a",
   "metadata": {},
   "outputs": [
    {
     "data": {
      "image/png": "[encoded data removed]",
      "text/plain": [
       "<Figure size 800x600 with 1 Axes>"
      ]
     },
     "metadata": {},
     "output_type": "display_data"
    }
   ],
   "source": [
    "all_seasons = ['2010-2011', '2011-2012', '2012-2013', '2013-2014', \n",
    "               '2014-2015', '2015-2016', '2016-2017', '2017-2018',\n",
    "               '2018-2019','2019-2020', '2021-2022', '2022-2023']\n",
    "\n",
    "all_season_avg_odds = []\n",
    "for season in all_seasons:\n",
    "    season_data = premier[premier[\"Season\"] == season]\n",
    "    all_season_avg_odds.append(calc_avg_odd(season_data))\n",
    "    \n",
    "avg_odds_df = pd.DataFrame(all_season_avg_odds)\n",
    "avg_odds_df.columns = [\"Avg. Odds for Home\", \"Avg. Odds for Draw\", \"Avg. Odds for Away\"]\n",
    "avg_odds_df[\"Season\"] = all_seasons\n",
    "avg_odds_df = avg_odds_df[[\"Season\", \"Avg. Odds for Home\", \n",
    "                           \"Avg. Odds for Draw\", \"Avg. Odds for Away\"]]\n",
    "\n",
    "plt.figure(figsize = (8,6))\n",
    "plt.plot(avg_odds_df[\"Season\"], avg_odds_df[\"Avg. Odds for Home\"], \n",
    "                                        label = \"Avg. Odds for Home\")\n",
    "plt.plot(avg_odds_df[\"Season\"], avg_odds_df[\"Avg. Odds for Draw\"], \n",
    "                                        label = \"Avg. Odds for Draw\")\n",
    "plt.plot(avg_odds_df[\"Season\"], avg_odds_df[\"Avg. Odds for Away\"], \n",
    "                                        label = \"Avg. Odds for Away\")\n",
    "plt.legend()\n",
    "plt.xticks(rotation='vertical')\n",
    "plt.title(\"Avg. Odds for Each Season\", fontsize = 14, fontweight = \"bold\")\n",
    "plt.xlabel(\"Premier League Season\", fontsize = 14, fontweight = \"bold\")\n",
    "plt.ylabel(\"Avg. Odds from Bookmakers\", fontsize = 14)\n",
    "plt.show()\n",
    "#plt.savefig(\"avg_odds_by_season.png\", dpi = 400, bbox_inches = \"tight\")"
   ]
  },
  {
   "cell_type": "code",
   "execution_count": 72,
   "id": "2a9b44ac-3f26-4b40-8611-c1bf7f68eb7c",
   "metadata": {},
   "outputs": [],
   "source": [
    "# resume data cleaning"
   ]
  },
  {
   "cell_type": "code",
   "execution_count": 73,
   "id": "0c8265ed-8874-4f22-9c6a-18368e44c48c",
   "metadata": {},
   "outputs": [],
   "source": [
    "def drop_cols(df, miss_thresh = 0.5):\n",
    "    \"\"\"\n",
    "    Drops columns in a dataframe where majority of data is missing.\n",
    "    \n",
    "    Inputs:\n",
    "        df [Pandas df]: dataframe of game and odds data.\n",
    "        miss_thresh [float]: if a column is missing more than \n",
    "        this proportion of values, it will be doppred. \n",
    "        \n",
    "    Returns [Pandas df]: a new dataframe without those columns.\n",
    "    \"\"\"\n",
    "\n",
    "    max_missing = len(df) * miss_thresh\n",
    "    to_drop = df.isna().sum().loc[lambda miss: miss > max_missing].index.tolist()\n",
    "    to_keep = list(set(df.columns).difference(set(to_drop)))\n",
    "    print(\"Dropped\", len(to_drop), \"columns\")\n",
    "    return df[to_keep]"
   ]
  },
  {
   "cell_type": "code",
   "execution_count": 74,
   "id": "3b6eb87f-1071-4431-a120-5801db594628",
   "metadata": {},
   "outputs": [
    {
     "name": "stdout",
     "output_type": "stream",
     "text": [
      "Dropped 74 columns\n"
     ]
    }
   ],
   "source": [
    "premier = drop_cols(premier)"
   ]
  },
  {
   "cell_type": "code",
   "execution_count": 75,
   "id": "da764596-32e7-4b64-96e3-cd2bc3330996",
   "metadata": {},
   "outputs": [],
   "source": [
    "def fill_miss(df):\n",
    "    \"\"\"\n",
    "    Fill missing values in columns with mean of that column. \n",
    "    \n",
    "    Inputs:\n",
    "        df [Pandas df]: The dataframe to be cleaned.\n",
    "        \n",
    "    Returns [Pandas df]: a new dataframe with no missing values.\n",
    "    \"\"\"\n",
    "    \n",
    "    cols_to_fill = df.isna().sum()[df.isna().sum() > 0].index.tolist()\n",
    "    for col in cols_to_fill:\n",
    "        df[col] = df[col].fillna(df[col].mean())\n",
    "        \n",
    "    return df"
   ]
  },
  {
   "cell_type": "code",
   "execution_count": 76,
   "id": "be7440c3-affe-4dad-9e7b-e0d5bc09ef1a",
   "metadata": {},
   "outputs": [],
   "source": [
    "premier = fill_miss(premier)"
   ]
  },
  {
   "cell_type": "markdown",
   "id": "dc617677-8543-427a-a3d3-cc8dc0f9f91c",
   "metadata": {},
   "source": [
    "## Exploratory Data Analysis"
   ]
  },
  {
   "cell_type": "markdown",
   "id": "e34f4aca-f314-48eb-9b17-a9559c7df103",
   "metadata": {},
   "source": [
    "#### What are the scores like in soccer?"
   ]
  },
  {
   "cell_type": "code",
   "execution_count": 77,
   "id": "6f3bf3cb-eff4-4875-b455-fedde49f3532",
   "metadata": {},
   "outputs": [],
   "source": [
    "premier[\"Score Difference\"] = abs(premier[\"FTHG\"] - premier[\"FTAG\"])\n",
    "score_diff = pd.DataFrame(premier[\"Score Difference\"].value_counts())\n",
    "score_diff.reset_index(inplace = True)\n",
    "score_diff.columns = [\"Score Diff.\", \"# of Games\"]\n",
    "score_diff.sort_values(by = \"Score Diff.\", inplace = True)"
   ]
  },
  {
   "cell_type": "code",
   "execution_count": 78,
   "id": "923fec1e-0f10-4cbe-b80c-aae54fa29ace",
   "metadata": {},
   "outputs": [],
   "source": [
    "premier[\"Diff. in Shots on Target\"] = abs(premier[\"HST\"] - premier[\"AST\"])\n",
    "shots_diff = pd.DataFrame(premier[\"Diff. in Shots on Target\"].value_counts())\n",
    "shots_diff.reset_index(inplace = True)\n",
    "shots_diff.columns = [\"Shots Diff.\", \"# of Games\"]\n",
    "shots_diff.sort_values(by = \"Shots Diff.\", inplace = True)"
   ]
  },
  {
   "cell_type": "markdown",
   "id": "2a44703f-14b8-492a-ab20-d8fec213abae",
   "metadata": {},
   "source": [
    "As the team that is home and away changes every game, it does not make sense to consider the variables for home team score and away team score independently, or the home team shots on goal and away team shots on goal independently. \n",
    "\n",
    "Taking the absolute value of the difference between the goals and shots on goal for each team is more meaningful for visualization."
   ]
  },
  {
   "cell_type": "code",
   "execution_count": 79,
   "id": "1e262ac1-8f1b-40e8-a234-29b02741b91d",
   "metadata": {},
   "outputs": [
    {
     "name": "stdout",
     "output_type": "stream",
     "text": [
      "Mean Score Difference:  1.41\n",
      "Mean Shots Difference:  3.4\n"
     ]
    }
   ],
   "source": [
    "mean_score_diff = np.mean(premier[\"Score Difference\"])\n",
    "mean_shots_diff = np.mean(premier[\"Diff. in Shots on Target\"])\n",
    "print(\"Mean Score Difference: \", np.round(mean_score_diff, 3))\n",
    "print(\"Mean Shots Difference: \", np.round(mean_shots_diff, 3))"
   ]
  },
  {
   "cell_type": "code",
   "execution_count": 80,
   "id": "6b55e33f-5097-4f78-9a5d-8eca59e1d113",
   "metadata": {},
   "outputs": [
    {
     "data": {
      "image/png": "[encoded data removed]",
      "text/plain": [
       "<Figure size 640x480 with 1 Axes>"
      ]
     },
     "metadata": {},
     "output_type": "display_data"
    }
   ],
   "source": [
    "#| fig-cap: Visualization of the distribution of difference in goals in all Premier League games, as well as the distribution of the difference in shots on goal in all games.\n",
    "plt.rcParams[\"figure.dpi\"] = 100\n",
    "plt.title(\"How Close are Premier League Games?\")\n",
    "plt.hist(premier[\"Score Difference\"], bins = np.arange(0, 10, 1),\n",
    "    edgecolor = \"gray\", linewidth = 0.8, alpha = 0.5, label = \"Diff. in Score\")\n",
    "plt.hist(premier[\"Diff. in Shots on Target\"], bins = np.arange(0, 14, 1), \n",
    "    edgecolor = \"gray\", linewidth = 0.8, alpha = 0.5, label = \"Diff. in # Shots\")\n",
    "plt.xlabel(\"Difference in Goals/Shots\")\n",
    "plt.ylabel(\"Number of Games\")\n",
    "plt.axvline(x = mean_score_diff, color = \"blue\", label = \"Mean Score Diff.\")\n",
    "plt.axvline(x = mean_shots_diff, color = \"orange\", label = \"Mean Shots Diff.\")\n",
    "plt.xticks(np.arange(0, 14, 1))\n",
    "plt.legend()\n",
    "plt.show()"
   ]
  },
  {
   "cell_type": "markdown",
   "id": "bf6f0c84-7f17-47d4-9d1f-5682298bf4da",
   "metadata": {},
   "source": [
    "As opposed to other sports such as Basketball, in soccer games are often won by 1 or 2 goals.\n",
    "\n",
    "In order to compare two teams, it is also useful to look at other statistics such as number of shots on goal, number of minutes of possession by each team, and even number of corner kicks by each team (as a proxy for understanding how often the ball is near the goal of the opposing team)."
   ]
  },
  {
   "cell_type": "markdown",
   "id": "7be4910f-3717-4fd2-aafa-993a4ff28de1",
   "metadata": {},
   "source": [
    "#### Which teams are good?"
   ]
  },
  {
   "cell_type": "code",
   "execution_count": 81,
   "id": "1f067fc6-39e3-4937-a173-6af1b7b5bc62",
   "metadata": {},
   "outputs": [
    {
     "name": "stdout",
     "output_type": "stream",
     "text": [
      "There are  39 teams in the Premier League:  {'Newcastle', 'Blackpool', 'Brentford', 'Sheffield United', 'Crystal Palace', 'Sunderland', 'Hull', 'Brighton', \"Nott'm Forest\", 'Southampton', 'Leicester', 'Cardiff', 'Blackburn', 'Norwich', 'West Ham', 'West Brom', 'QPR', 'Birmingham', 'Leeds', 'Man City', 'Fulham', 'Reading', 'Aston Villa', 'Wolves', 'Arsenal', 'Huddersfield', 'Bournemouth', 'Watford', 'Chelsea', 'Swansea', 'Burnley', 'Bolton', 'Liverpool', 'Wigan', 'Everton', 'Man United', 'Stoke', 'Tottenham', 'Middlesbrough'}\n"
     ]
    }
   ],
   "source": [
    "game_res = pd.get_dummies(premier[\"FTR\"])\n",
    "premier = pd.concat([premier, game_res], axis = 1)\n",
    "teams = set(premier[\"HomeTeam\"].unique()).union(set(premier[\"AwayTeam\"]))\n",
    "print(\"There are \", len(teams), \"teams in the Premier League: \", teams)"
   ]
  },
  {
   "cell_type": "code",
   "execution_count": 82,
   "id": "596f33f8-4aa3-417c-b79b-7c19c2b6db97",
   "metadata": {},
   "outputs": [],
   "source": [
    "def num_wins_each_team(df):\n",
    "    \"\"\"\n",
    "    Returns a dataframe summarizing Win/Loss/Draw results by each team.\n",
    "    \"\"\"\n",
    "    cols_to_make = [\"Team Name\", \"Home Wins\", \"Home Losses\", \"Home Draws\", \n",
    "        \"Away Wins\",\"Away Losses\", \"Away Draws\", \"Total Wins\", \"Total Losses\", \n",
    "        \"Total Draws\"]\n",
    "    all_team_res = []\n",
    "    # global variable teams\n",
    "    for team in teams: \n",
    "        # When the team is the home team\n",
    "        team_is_playing_home = df[df[\"HomeTeam\"] == team]\n",
    "        num_wins_as_home, num_loss_as_home = sum(team_is_playing_home[\"H\"]), sum(team_is_playing_home[\"A\"])\n",
    "        num_draws_as_home = sum(team_is_playing_home[\"D\"])\n",
    "        # When the team is the away team\n",
    "        team_is_playing_away = df[df[\"AwayTeam\"] == team]\n",
    "        num_wins_as_away, num_loss_as_away = sum(team_is_playing_away[\"A\"]), sum(team_is_playing_away[\"H\"])\n",
    "        num_draws_as_away = sum(team_is_playing_away[\"D\"])\n",
    "        # Totals\n",
    "        tot_wins = num_wins_as_home + num_wins_as_away\n",
    "        tot_loss = num_loss_as_home + num_loss_as_away\n",
    "        tot_draws = num_draws_as_home + num_draws_as_away\n",
    "\n",
    "        \n",
    "        that_team_stats = [team, num_wins_as_home, num_loss_as_home, \n",
    "                             num_draws_as_home, num_wins_as_away, num_loss_as_away, \n",
    "                             num_draws_as_away, tot_wins, \n",
    "                             tot_loss, tot_draws]\n",
    "\n",
    "        all_team_res.append(that_team_stats)\n",
    "    \n",
    "    res = pd.DataFrame(all_team_res, columns = cols_to_make)\n",
    "    res[\"Prop. of Wins are Home\"] = res[\"Home Wins\"]/(res[\"Home Wins\"] + res[\"Away Wins\"])\n",
    "    res[\"Prop. of Home are Wins\"] = res[\"Home Wins\"]/(res[\"Home Wins\"] + res[\"Home Draws\"] + res[\"Home Losses\"])\n",
    "    res[\"Prop. of Away are Wins\"] = res[\"Away Wins\"]/(res[\"Away Wins\"] + res[\"Away Draws\"] + res[\"Away Losses\"])\n",
    "\n",
    "    return res"
   ]
  },
  {
   "cell_type": "code",
   "execution_count": 83,
   "id": "d13e0341-c883-447b-817c-2ff76d5f5be3",
   "metadata": {},
   "outputs": [],
   "source": [
    "by_team = num_wins_each_team(premier)\n",
    "by_team.sort_values(by = \"Total Wins\", ascending = False, inplace = True)\n",
    "by_team.reset_index(inplace = True, drop = True)"
   ]
  },
  {
   "cell_type": "code",
   "execution_count": 84,
   "id": "4c3acffd-bc64-4bf7-a393-f8efceaea700",
   "metadata": {},
   "outputs": [
    {
     "data": {
      "text/html": [
       "<div>\n",
       "<style scoped>\n",
       "    .dataframe tbody tr th:only-of-type {\n",
       "        vertical-align: middle;\n",
       "    }\n",
       "\n",
       "    .dataframe tbody tr th {\n",
       "        vertical-align: top;\n",
       "    }\n",
       "\n",
       "    .dataframe thead th {\n",
       "        text-align: right;\n",
       "    }\n",
       "</style>\n",
       "<table border=\"1\" class=\"dataframe\">\n",
       "  <thead>\n",
       "    <tr style=\"text-align: right;\">\n",
       "      <th></th>\n",
       "      <th>Team Name</th>\n",
       "      <th>Total Wins</th>\n",
       "    </tr>\n",
       "  </thead>\n",
       "  <tbody>\n",
       "    <tr>\n",
       "      <th>0</th>\n",
       "      <td>Man City</td>\n",
       "      <td>325</td>\n",
       "    </tr>\n",
       "    <tr>\n",
       "      <th>1</th>\n",
       "      <td>Liverpool</td>\n",
       "      <td>268</td>\n",
       "    </tr>\n",
       "    <tr>\n",
       "      <th>2</th>\n",
       "      <td>Man United</td>\n",
       "      <td>267</td>\n",
       "    </tr>\n",
       "    <tr>\n",
       "      <th>3</th>\n",
       "      <td>Chelsea</td>\n",
       "      <td>264</td>\n",
       "    </tr>\n",
       "    <tr>\n",
       "      <th>4</th>\n",
       "      <td>Arsenal</td>\n",
       "      <td>260</td>\n",
       "    </tr>\n",
       "  </tbody>\n",
       "</table>\n",
       "</div>"
      ],
      "text/plain": [
       "    Team Name  Total Wins\n",
       "0    Man City         325\n",
       "1   Liverpool         268\n",
       "2  Man United         267\n",
       "3     Chelsea         264\n",
       "4     Arsenal         260"
      ]
     },
     "execution_count": 84,
     "metadata": {},
     "output_type": "execute_result"
    }
   ],
   "source": [
    "#| fig-cap: The teams with the most total wins in the Premier League.\n",
    "by_team[[\"Team Name\", \"Total Wins\"]].head()"
   ]
  },
  {
   "cell_type": "code",
   "execution_count": 85,
   "id": "4fe1d8cc-0f44-43b9-a424-7de687ffd0bb",
   "metadata": {},
   "outputs": [],
   "source": [
    "# Save data by team to Excel. Could be incorporated for future analysis to interpret results of ML models.\n",
    "#by_team.to_excel(\"team_performances.xlsx\", index = False)"
   ]
  },
  {
   "cell_type": "markdown",
   "id": "7e905498-5093-4c3e-99a3-9a244454f5ab",
   "metadata": {},
   "source": [
    "### Logistic Regression: Predicting Arbtirage after the fact\n",
    "\n",
    "Using game data and one-hot encoded team names, referee, and year data as features, predicting whether there is an arbitrage opportunity or not. Admittedly, this is not that meaningful of a prediction to make since it is predicting whether there was an arbitrage opportunity both after the window to place bets elapsed as well as predicting after the results of the game are known. However, there is a lack of pre-game data specific to each game as well as a lack of mergable historical premier league player statistic datasets."
   ]
  },
  {
   "cell_type": "code",
   "execution_count": 101,
   "id": "3253ef91-1b0d-45c2-ad3d-68bffc09f4c6",
   "metadata": {},
   "outputs": [],
   "source": [
    "prem.sort_values(by = \"Date\", inplace = True)\n",
    "prem[\"Year\"] = prem[\"Date\"].dt.year\n",
    "year_one_hot = pd.get_dummies(prem[\"Year\"], prefix = \"Year\")"
   ]
  },
  {
   "cell_type": "code",
   "execution_count": 102,
   "id": "7ffe0fc0-5f28-4251-8ce4-b49069b0d1bb",
   "metadata": {},
   "outputs": [
    {
     "data": {
      "text/plain": [
       "(4770, 150)"
      ]
     },
     "execution_count": 102,
     "metadata": {},
     "output_type": "execute_result"
    }
   ],
   "source": [
    "cols_to_get = [\"HS\", \"AS\", \"HST\", \"AST\", \"HHW\", \"AHW\", \"HC\", \"AC\", \"HF\",\n",
    "        \"AF\", \"HFKC\", \"AFKC\", \"HO\", \"AO\", \"HY\", \"AY\", \"HR\", \"AR\",\n",
    "        \"FTHG\", \"HG\", \"FTAG\", \"AG\", \"Res\", \"HTHG\", \"HTAG\"]\n",
    "\n",
    "num_cols = [col for col in cols_to_get if col in prem.columns.tolist()]\n",
    "num_data = prem[num_cols]\n",
    "home_one_hot = pd.get_dummies(prem[\"HomeTeam\"], prefix = \"Home\")\n",
    "away_one_hot = pd.get_dummies(prem[\"AwayTeam\"], prefix = \"Away\")\n",
    "ref_one_hot = pd.get_dummies(prem[\"Referee\"], prefix = \"ref\")\n",
    "for_lr = pd.concat([num_data, home_one_hot, away_one_hot, ref_one_hot, year_one_hot], axis = 1)\n",
    "for_lr.shape"
   ]
  },
  {
   "cell_type": "code",
   "execution_count": 103,
   "id": "3ee745ba-357b-491d-9de1-0de27dab2946",
   "metadata": {},
   "outputs": [],
   "source": [
    "X = for_lr.values\n",
    "y = prem[\"Arbitrage Opportunity\"]"
   ]
  },
  {
   "cell_type": "code",
   "execution_count": 104,
   "id": "3dfcab13-82b8-4015-85cc-29e75ff86377",
   "metadata": {},
   "outputs": [],
   "source": [
    "X_tr, X_te, y_tr, y_te = train_test_split(X, y, test_size = 0.33, random_state = 99)"
   ]
  },
  {
   "cell_type": "code",
   "execution_count": 105,
   "id": "dc6c2071-d7cb-4b70-8444-9fd0911dd0e7",
   "metadata": {},
   "outputs": [
    {
     "data": {
      "text/plain": [
       "((3195, 150), (1575, 150))"
      ]
     },
     "execution_count": 105,
     "metadata": {},
     "output_type": "execute_result"
    }
   ],
   "source": [
    "X_tr.shape, X_te.shape"
   ]
  },
  {
   "cell_type": "code",
   "execution_count": 106,
   "id": "0ca6d056-dc36-47c3-a1ba-a31ca9274b21",
   "metadata": {},
   "outputs": [],
   "source": [
    "# According to the sklearn documentation, newton-cholesky is a good choice when there are more observations than features,\n",
    "# especially when there are one-hot encoded categorical features with rare categories, which is applicable for team name and \n",
    "#referree name especially.\n",
    "logreg_arb = LogisticRegression(solver = \"newton-cholesky\", random_state = 10)\n",
    "logreg_arb.fit(X_tr, y_tr)\n",
    "y_pred_arb = logreg_arb.predict(X_te)\n",
    "log_reg_arb_acc = accuracy_score(y_te, y_pred_arb)"
   ]
  },
  {
   "cell_type": "code",
   "execution_count": 107,
   "id": "d7d88fa0-5c0f-4f51-9ae3-7eae89038610",
   "metadata": {},
   "outputs": [
    {
     "data": {
      "text/html": [
       "<div>\n",
       "<style scoped>\n",
       "    .dataframe tbody tr th:only-of-type {\n",
       "        vertical-align: middle;\n",
       "    }\n",
       "\n",
       "    .dataframe tbody tr th {\n",
       "        vertical-align: top;\n",
       "    }\n",
       "\n",
       "    .dataframe thead th {\n",
       "        text-align: right;\n",
       "    }\n",
       "</style>\n",
       "<table border=\"1\" class=\"dataframe\">\n",
       "  <thead>\n",
       "    <tr style=\"text-align: right;\">\n",
       "      <th></th>\n",
       "      <th>Arbitrage Opportunity</th>\n",
       "    </tr>\n",
       "  </thead>\n",
       "  <tbody>\n",
       "    <tr>\n",
       "      <th>True</th>\n",
       "      <td>0.6476</td>\n",
       "    </tr>\n",
       "    <tr>\n",
       "      <th>False</th>\n",
       "      <td>0.3524</td>\n",
       "    </tr>\n",
       "  </tbody>\n",
       "</table>\n",
       "</div>"
      ],
      "text/plain": [
       "       Arbitrage Opportunity\n",
       "True                  0.6476\n",
       "False                 0.3524"
      ]
     },
     "execution_count": 107,
     "metadata": {},
     "output_type": "execute_result"
    }
   ],
   "source": [
    "#| fig-cap: For the test set, this is the class breakdown for the variable that is being predicted\n",
    "pd.DataFrame(np.round(pd.DataFrame(y_te)[\"Arbitrage Opportunity\"].value_counts()/len(y_te), 4))"
   ]
  },
  {
   "cell_type": "code",
   "execution_count": 108,
   "id": "afa7e440-3661-409f-9f41-687e5c37c67b",
   "metadata": {},
   "outputs": [
    {
     "name": "stdout",
     "output_type": "stream",
     "text": [
      "Logistic Regression Model to Predict Opportunity for Arbitrage after knowing game results has an Accuracy of:  0.8546\n"
     ]
    }
   ],
   "source": [
    "print(\"Logistic Regression Model to Predict Opportunity for Arbitrage after knowing game results has an Accuracy of: \", np.round(log_reg_arb_acc, 4))"
   ]
  },
  {
   "cell_type": "code",
   "execution_count": 109,
   "id": "6b11c051-f408-4d9f-a50d-9686e671a145",
   "metadata": {},
   "outputs": [
    {
     "data": {
      "image/png": "[encoded data removed]",
      "text/plain": [
       "<Figure size 640x480 with 2 Axes>"
      ]
     },
     "metadata": {},
     "output_type": "display_data"
    }
   ],
   "source": [
    "cfm_arb = confusion_matrix(y_te, y_pred_arb)\n",
    "sns.heatmap(cfm_arb, annot = True, fmt = \"d\")\n",
    "plt.ylabel(\"Actual Values\")\n",
    "plt.xlabel(\"Predicted Values\")\n",
    "plt.show()"
   ]
  }
 ],
 "metadata": {
  "kernelspec": {
   "display_name": "Python 3 (ipykernel)",
   "language": "python",
   "name": "python3"
  },
  "language_info": {
   "codemirror_mode": {
    "name": "ipython",
    "version": 3
   },
   "file_extension": ".py",
   "mimetype": "text/x-python",
   "name": "python",
   "nbconvert_exporter": "python",
   "pygments_lexer": "ipython3",
   "version": "3.10.6"
  },
  "vscode": {
   "interpreter": {
    "hash": "f7cdf390d813832c9146c17a1007c0c70052dd6dc9182b747e1161108cf59966"
   }
  }
 },
 "nbformat": 4,
 "nbformat_minor": 5
}
